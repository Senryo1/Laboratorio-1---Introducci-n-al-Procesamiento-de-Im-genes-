{
 "cells": [
  {
   "cell_type": "code",
   "execution_count": 4,
   "metadata": {},
   "outputs": [],
   "source": [
    "import cv2\n",
    "import numpy as np\n",
    "import matplotlib.pyplot as plt"
   ]
  },
  {
   "cell_type": "code",
   "execution_count": 11,
   "metadata": {},
   "outputs": [],
   "source": [
    "def activar_color(image, color):\n",
    "    # Leer la imagen en formato BGR (OpenCV utiliza este formato por defecto)\n",
    "    bgr_image = cv2.imread(image)\n",
    "\n",
    "    # Crear una matriz de ceros del mismo tamaño que la imagen\n",
    "    zeros = np.zeros(bgr_image.shape[:2], dtype=np.uint8)\n",
    "\n",
    "    # Activar el canal de color seleccionado\n",
    "    if color == 1:  # Azul\n",
    "        blue_image = cv2.merge((bgr_image[:, :, 0], zeros, zeros))\n",
    "        return blue_image\n",
    "    elif color == 2:  # Verde\n",
    "        green_image = cv2.merge((zeros, bgr_image[:, :, 1], zeros))\n",
    "        return green_image\n",
    "    elif color == 3:  # Rojo\n",
    "        red_image = cv2.merge((zeros, zeros, bgr_image[:, :, 2]))\n",
    "        return red_image\n",
    "    else:\n",
    "        raise ValueError(f\"No se pudo leer la imagen en la ruta: {image}\")\n"
   ]
  },
  {
   "cell_type": "code",
   "execution_count": 14,
   "metadata": {},
   "outputs": [
    {
     "ename": "AttributeError",
     "evalue": "'NoneType' object has no attribute 'shape'",
     "output_type": "error",
     "traceback": [
      "\u001b[1;31m---------------------------------------------------------------------------\u001b[0m",
      "\u001b[1;31mAttributeError\u001b[0m                            Traceback (most recent call last)",
      "Cell \u001b[1;32mIn[14], line 5\u001b[0m\n\u001b[0;32m      2\u001b[0m color_activado \u001b[39m=\u001b[39m \u001b[39m1\u001b[39m  \u001b[39m# Cambiar a 2 o 3 para activar otros colores\u001b[39;00m\n\u001b[0;32m      4\u001b[0m \u001b[39m# Obtener la imagen con el canal de color seleccionado activo\u001b[39;00m\n\u001b[1;32m----> 5\u001b[0m imagen_activada \u001b[39m=\u001b[39m activar_color(imagen, color_activado)\n\u001b[0;32m      7\u001b[0m \u001b[39m# Mostrar la imagen original y la imagen con el canal de color activo\u001b[39;00m\n\u001b[0;32m      8\u001b[0m plt\u001b[39m.\u001b[39msubplot(\u001b[39m121\u001b[39m), plt\u001b[39m.\u001b[39mimshow(cv2\u001b[39m.\u001b[39mcvtColor(cv2\u001b[39m.\u001b[39mimread(imagen), cv2\u001b[39m.\u001b[39mCOLOR_BGR2RGB))\n",
      "Cell \u001b[1;32mIn[11], line 6\u001b[0m, in \u001b[0;36mactivar_color\u001b[1;34m(image, color)\u001b[0m\n\u001b[0;32m      3\u001b[0m bgr_image \u001b[39m=\u001b[39m cv2\u001b[39m.\u001b[39mimread(image)\n\u001b[0;32m      5\u001b[0m \u001b[39m# Crear una matriz de ceros del mismo tamaño que la imagen\u001b[39;00m\n\u001b[1;32m----> 6\u001b[0m zeros \u001b[39m=\u001b[39m np\u001b[39m.\u001b[39mzeros(bgr_image\u001b[39m.\u001b[39;49mshape[:\u001b[39m2\u001b[39m], dtype\u001b[39m=\u001b[39mnp\u001b[39m.\u001b[39muint8)\n\u001b[0;32m      8\u001b[0m \u001b[39m# Activar el canal de color seleccionado\u001b[39;00m\n\u001b[0;32m      9\u001b[0m \u001b[39mif\u001b[39;00m color \u001b[39m==\u001b[39m \u001b[39m1\u001b[39m:  \u001b[39m# Azul\u001b[39;00m\n",
      "\u001b[1;31mAttributeError\u001b[0m: 'NoneType' object has no attribute 'shape'"
     ]
    }
   ],
   "source": [
    "imagen = \"C:/Users/René/Desktop/monte-fuji.jpg\"  # Reemplaza con la ruta de tu imagen\n",
    "color_activado = 1  # Cambiar a 2 o 3 para activar otros colores\n",
    "\n",
    "# Obtener la imagen con el canal de color seleccionado activo\n",
    "imagen_activada = activar_color(imagen, color_activado)\n",
    "\n",
    "# Mostrar la imagen original y la imagen con el canal de color activo\n",
    "plt.subplot(121), plt.imshow(cv2.cvtColor(cv2.imread(imagen), cv2.COLOR_BGR2RGB))\n",
    "plt.title(\"Imagen Original\"), plt.axis(\"off\")\n",
    "\n",
    "plt.subplot(122), plt.imshow(imagen_activada)\n",
    "plt.title(\"Imagen con Canal Activo\"), plt.axis(\"off\")\n",
    "\n",
    "plt.show()"
   ]
  }
 ],
 "metadata": {
  "kernelspec": {
   "display_name": "Python 3",
   "language": "python",
   "name": "python3"
  },
  "language_info": {
   "codemirror_mode": {
    "name": "ipython",
    "version": 3
   },
   "file_extension": ".py",
   "mimetype": "text/x-python",
   "name": "python",
   "nbconvert_exporter": "python",
   "pygments_lexer": "ipython3",
   "version": "3.9.13"
  },
  "orig_nbformat": 4
 },
 "nbformat": 4,
 "nbformat_minor": 2
}
