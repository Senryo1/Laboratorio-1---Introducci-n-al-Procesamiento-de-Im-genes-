{
 "cells": [
  {
   "cell_type": "code",
   "execution_count": 1,
   "metadata": {},
   "outputs": [],
   "source": [
    "import cv2\n",
    "import numpy as np\n",
    "\n",
    "def construir_imagen_color(red_img, green_img, blue_img):\n",
    "    # Apilamos las imágenes en una sola matriz 3D para combinar los canales de color\n",
    "    image_color = np.stack((blue_img, green_img, red_img), axis=-1)\n",
    "\n",
    "    # Escalamos los valores para que estén en el rango [0, 255]\n",
    "    image_color = (image_color - np.min(image_color)) / (np.max(image_color) - np.min(image_color)) * 255\n",
    "\n",
    "    # Convertimos la matriz a tipo de datos entero de 8 bits (uint8)\n",
    "    image_color = np.uint8(image_color)\n",
    "\n",
    "    return image_color\n"
   ]
  },
  {
   "cell_type": "code",
   "execution_count": 4,
   "metadata": {},
   "outputs": [],
   "source": [
    "# Cargar las imágenes en escala de grises (red_img, green_img y blue_img)\n",
    "red_img = cv2.imread(\"imagen1/imagen1_salida_gray_rojo.jpg\", cv2.IMREAD_GRAYSCALE)\n",
    "green_img = cv2.imread(\"imagen1/imagen1_salida_gray_verde.jpg\", cv2.IMREAD_GRAYSCALE)\n",
    "blue_img = cv2.imread(\"imagen1/imagen1_salida_gray_azul.jpg\", cv2.IMREAD_GRAYSCALE)\n",
    "\n",
    "# Construir la imagen a color\n",
    "imagen_color = construir_imagen_color(red_img, green_img, blue_img)\n",
    "\n",
    "# Mostrar la imagen a color utilizando cv2\n",
    "cv2.imshow(\"Imagen a Color\", imagen_color)\n",
    "cv2.waitKey(0)\n",
    "cv2.destroyAllWindows()\n"
   ]
  }
 ],
 "metadata": {
  "kernelspec": {
   "display_name": "Python 3",
   "language": "python",
   "name": "python3"
  },
  "language_info": {
   "codemirror_mode": {
    "name": "ipython",
    "version": 3
   },
   "file_extension": ".py",
   "mimetype": "text/x-python",
   "name": "python",
   "nbconvert_exporter": "python",
   "pygments_lexer": "ipython3",
   "version": "3.9.13"
  },
  "orig_nbformat": 4
 },
 "nbformat": 4,
 "nbformat_minor": 2
}
