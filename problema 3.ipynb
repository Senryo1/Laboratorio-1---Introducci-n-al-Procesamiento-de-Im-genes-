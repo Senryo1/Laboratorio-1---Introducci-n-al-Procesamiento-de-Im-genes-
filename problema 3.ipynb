{
 "cells": [
  {
   "cell_type": "code",
   "execution_count": 1,
   "metadata": {},
   "outputs": [],
   "source": [
    "import cv2\n",
    "import numpy as np\n",
    "\n",
    "def crear_escala_grises_3D(imagen):\n",
    "    # Cargar la imagen en color\n",
    "    bgr_image = cv2.imread(imagen)\n",
    "\n",
    "    if bgr_image is None:\n",
    "        raise ValueError(f\"No se pudo leer la imagen en la ruta: {imagen}\")\n",
    "\n",
    "    # Dividir los canales de color para obtener las imágenes en escala de grises\n",
    "    blue_img = bgr_image[:, :, 0]  # Canal azul\n",
    "    green_img = bgr_image[:, :, 1]  # Canal verde\n",
    "    red_img = bgr_image[:, :, 2]  # Canal rojo\n",
    "\n",
    "    return red_img, green_img, blue_img\n"
   ]
  },
  {
   "cell_type": "code",
   "execution_count": 2,
   "metadata": {},
   "outputs": [],
   "source": [
    "# Ejemplo de uso:\n",
    "imagen = \"Hos honkai.png\"  # Reemplaza con la ruta de tu imagen en color\n",
    "\n",
    "# Crear la escala de grises en tres dimensiones\n",
    "red_img, green_img, blue_img = crear_escala_grises_3D(imagen)\n",
    "\n",
    "# Mostrar las imágenes en escala de grises obtenidas\n",
    "cv2.imshow(\"Canal Rojo\", red_img)\n",
    "cv2.imshow(\"Canal Verde\", green_img)\n",
    "cv2.imshow(\"Canal Azul\", blue_img)\n",
    "cv2.waitKey(0)\n",
    "cv2.destroyAllWindows()"
   ]
  }
 ],
 "metadata": {
  "kernelspec": {
   "display_name": "Python 3",
   "language": "python",
   "name": "python3"
  },
  "language_info": {
   "codemirror_mode": {
    "name": "ipython",
    "version": 3
   },
   "file_extension": ".py",
   "mimetype": "text/x-python",
   "name": "python",
   "nbconvert_exporter": "python",
   "pygments_lexer": "ipython3",
   "version": "3.9.13"
  },
  "orig_nbformat": 4
 },
 "nbformat": 4,
 "nbformat_minor": 2
}
